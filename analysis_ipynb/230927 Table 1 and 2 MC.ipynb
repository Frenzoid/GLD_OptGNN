{
 "cells": [
  {
   "cell_type": "code",
   "execution_count": 1,
   "metadata": {},
   "outputs": [],
   "source": [
    "# only permit max cut\n",
    "\n",
    "canonical_order = ['BarabasiAlbert', 'ErdosRenyi', 'PowerlawCluster', 'WattsStrogatz',  'MUTAG', 'ENZYMES', 'PROTEINS',   'IMDB-BINARY', 'COLLAB']\n",
    "def reorder(df, canonical_order=canonical_order, by='dataset', extras=['dataset','gen_n', 'gen_n_max'], secondary='gen_n', columns=None):\n",
    "    df['dataset_name_order'] = df[by].map({name: i for i, name in enumerate(canonical_order)})\n",
    "    if secondary is not None:\n",
    "        df = df.sort_values(by=['dataset_name_order', secondary])\n",
    "    else:\n",
    "        df = df.sort_values(by=['dataset_name_order'])\n",
    "\n",
    "    df.drop('dataset_name_order', axis =1, inplace=True)\n",
    "\n",
    "    if columns:\n",
    "        return df[columns ]\n",
    "    else:\n",
    "        return df"
   ]
  },
  {
   "cell_type": "code",
   "execution_count": 2,
   "metadata": {},
   "outputs": [
    {
     "data": {
      "text/plain": [
       "['legacy',\n",
       " 'Testing',\n",
       " '230928_snapshot',\n",
       " 'LiftMP_runs',\n",
       " '230924_hparam2',\n",
       " '230927_snapshot',\n",
       " '230928_runs',\n",
       " '230924_hparam',\n",
       " '230924_hparam_TU_multiarch',\n",
       " '230924_hparam_TU',\n",
       " '230926_finetune_ER_runs']"
      ]
     },
     "execution_count": 2,
     "metadata": {},
     "output_type": "execute_result"
    }
   ],
   "source": [
    "import os\n",
    "os.listdir('/home/bcjexu/maxcut-80/bespoke-gnn4do/training_runs')"
   ]
  },
  {
   "cell_type": "code",
   "execution_count": 3,
   "metadata": {},
   "outputs": [
    {
     "name": "stdout",
     "output_type": "stream",
     "text": [
      "['230928_runs/230925_TUsmall_GAT_VC', '230928_runs/230925_TUsmall_GIN_cut', '230928_runs/230925_generated_preset_cut', '230928_runs/230925_TUsmall_GAT_cut', '230928_runs/230925_TUsmall_liftMP_cut', '230928_runs/230925_TUsmall_GCNN_VC', '230928_runs/230925_TUsmall_GCNN_cut', '230928_runs/230925_generated_liftMP_VC', '230928_runs/230925_generated_preset_VC', '230928_runs/230925_TUsmall_liftMP_VC', '230928_runs/230925_TUsmall_GatedGCNN_VC', '230928_runs/230925_TUsmall_VC_32', '230928_runs/230925_TUlarge_liftMP_cut', '230928_runs/230925_TUlarge_liftMP_VC', '230928_runs/230925_generated_liftMP_cut', '230928_runs/230925_TUsmall_GatedGCNN_cut']\n"
     ]
    }
   ],
   "source": [
    "print(list(os.path.join('230928_runs', x) for x in os.listdir('/home/bcjexu/maxcut-80/bespoke-gnn4do/training_runs/230928_runs')))"
   ]
  },
  {
   "cell_type": "code",
   "execution_count": 4,
   "metadata": {},
   "outputs": [],
   "source": [
    "run_folders = ['LiftMP_runs', '230927_snapshot/230925_TUsmall_GAT_VC', '230927_snapshot/230925_TUsmall_GIN_VC', \n",
    "               '230927_snapshot/230925_generated_preset_cut', '230927_snapshot/230925_TUlarge_all_cut', '230927_snapshot/230925_TUsmall_GCNN_VC',\n",
    "                 '230927_snapshot/230925_generated_liftMP_VC', '230927_snapshot/230925_TUlarge_all_VC', '230927_snapshot/230925_generated_preset_VC', \n",
    "                 '230927_snapshot/230925_TUsmall_liftMP_VC', '230927_snapshot/230925_TUsmall_GatedGCNN_VC', '230927_snapshot/230925_generated_liftMP_cut']\n",
    "\n",
    "run_folders = ['230928_snapshot/230925_TUsmall_GAT_VC', '230928_snapshot/230925_TUsmall_GIN_cut', \n",
    "               '230928_snapshot/230925_generated_preset_cut', '230928_snapshot/230925_TUsmall_GAT_cut', \n",
    "               '230928_snapshot/230925_TUsmall_liftMP_cut', '230928_snapshot/230925_TUsmall_GCNN_VC', \n",
    "               '230928_snapshot/230925_TUsmall_GCNN_cut', '230928_snapshot/230925_generated_liftMP_VC', \n",
    "               '230928_snapshot/230925_generated_preset_VC', '230928_snapshot/230925_TUsmall_liftMP_VC', '230928_snapshot/230925_TUsmall_GatedGCNN_VC', \n",
    "               '230928_snapshot/230925_TUsmall_VC_32', '230928_snapshot/230925_generated_liftMP_cut', '230928_snapshot/230925_TUsmall_GatedGCNN_cut']\n",
    "\n",
    "run_folders = ['230928_runs/230925_TUsmall_GAT_VC', '230928_runs/230925_TUsmall_GIN_cut', \n",
    "               '230928_runs/230925_generated_preset_cut', '230928_runs/230925_TUsmall_GAT_cut', \n",
    "               '230928_runs/230925_TUsmall_liftMP_cut', '230928_runs/230925_TUsmall_GCNN_VC', \n",
    "               '230928_runs/230925_TUsmall_GCNN_cut', '230928_runs/230925_generated_liftMP_VC', '230928_runs/230925_generated_preset_VC', \n",
    "               '230928_runs/230925_TUsmall_liftMP_VC', '230928_runs/230925_TUsmall_GatedGCNN_VC', '230928_runs/230925_TUsmall_VC_32', \n",
    "               '230928_runs/230925_TUlarge_liftMP_cut', '230928_runs/230925_TUlarge_liftMP_VC', '230928_runs/230925_generated_liftMP_cut', '230928_runs/230925_TUsmall_GatedGCNN_cut']\n",
    "\n"
   ]
  },
  {
   "cell_type": "code",
   "execution_count": 26,
   "metadata": {},
   "outputs": [],
   "source": [
    "import json\n",
    "import pandas as pd\n",
    "import numpy as np\n",
    "\n",
    "folder_path = '/home/bcjexu/maxcut-80/bespoke-gnn4do/training_runs'\n",
    "model_list = [os.path.join(folder_path, run_folder, x) for run_folder in run_folders for x in os.listdir(os.path.join(folder_path, run_folder))  ]\n",
    "\n",
    "\n",
    "rows = []\n",
    "numtimes = 0\n",
    "\n",
    "errored = []\n",
    "for model_folder in model_list:\n",
    "    try:\n",
    "        with open(os.path.join(model_folder, 'params.txt'), 'r') as f:\n",
    "            model_args = json.load(f)\n",
    "        if model_args['problem_type'] != 'max_cut':\n",
    "            continue\n",
    "        \n",
    "        losses = np.load(os.path.join(model_folder, 'valid_scores.npy'))\n",
    "        test_losses = np.load(os.path.join(model_folder, 'test_scores.npy'))\n",
    "        modeldict = model_args #{x: model_args[x] for x in params}\n",
    "        modeldict['max_valid_score'] = max(losses)\n",
    "        modeldict['max_valid_epoch'] = np.argmax(losses)\n",
    "        modeldict['scores'] = test_losses[np.argmax(losses)]\n",
    "        modeldict['baseline'] = False\n",
    "\n",
    "\n",
    "        valid_score_from_file = -np.inf\n",
    "        time_per_pred = None\n",
    "\n",
    "        for prefix in ['retest_best', 'retest_last']:\n",
    "            scorefile = [x for x in os.listdir(model_folder) if x.startswith(prefix)]\n",
    "            #assert(len(scorefile) <=1)\n",
    "            if len(scorefile) >= 1:\n",
    "                times, scores = np.load(os.path.join(model_folder, scorefile[0]))\n",
    "                valid_score = np.average(scores)\n",
    "                if valid_score > valid_score_from_file:\n",
    "                    valid_score_from_file = valid_score\n",
    "                time_per_pred = np.average(times)\n",
    "        \n",
    "        if valid_score_from_file > modeldict['max_valid_score']:\n",
    "            modeldict['scores'] = valid_score_from_file\n",
    "        modeldict['time_per_pred'] = time_per_pred\n",
    "        #if time_per_pred == None and valid_score_from_file != -np.inf:\n",
    "        #    print(time_per_pred, valid_score_from_file)\n",
    "        \n",
    "        rows.append(modeldict)\n",
    "        \n",
    "    except Exception as e:\n",
    "        print(f'{e} is wrong w/ {model_folder}')\n",
    "        errored.append(model_folder)"
   ]
  },
  {
   "cell_type": "code",
   "execution_count": 6,
   "metadata": {},
   "outputs": [
    {
     "data": {
      "text/plain": [
       "0"
      ]
     },
     "execution_count": 6,
     "metadata": {},
     "output_type": "execute_result"
    }
   ],
   "source": [
    "numtimes"
   ]
  },
  {
   "cell_type": "code",
   "execution_count": 7,
   "metadata": {},
   "outputs": [],
   "source": [
    "# load in baselines\n",
    "baselines = pd.read_csv('mc_baseline_scores.csv')\n",
    "\n",
    "gen_n_dict = dict(zip([50, 100, 400], [[50, 100], [100, 200],[400, 500]]))\n",
    "\n",
    "# unwind them \n",
    "for i, baseline in baselines.iterrows():\n",
    "    #print(baseline.index)\n",
    "    for col in baselines.keys():\n",
    "        if col == 'Unnamed: 0':\n",
    "            continue\n",
    "        if baseline['Unnamed: 0'] == 'edge count':\n",
    "            continue\n",
    "        ds = col\n",
    "        gen_n = np.nan\n",
    "        if len(col.split('@@')) > 1:\n",
    "            ds, gen_n = col.split('@@')\n",
    "            gen_n = gen_n_dict[int(gen_n)]\n",
    "\n",
    "        row = {'dataset': ds, 'gen_n': gen_n, 'model_type': baseline['Unnamed: 0'], 'scores': baseline[col], 'baseline': True}\n",
    "        #print(row)\n",
    "        rows.append(row)\n"
   ]
  },
  {
   "cell_type": "code",
   "execution_count": 8,
   "metadata": {},
   "outputs": [
    {
     "data": {
      "text/plain": [
       "0"
      ]
     },
     "execution_count": 8,
     "metadata": {},
     "output_type": "execute_result"
    }
   ],
   "source": [
    "len(errored)"
   ]
  },
  {
   "cell_type": "code",
   "execution_count": 9,
   "metadata": {},
   "outputs": [],
   "source": [
    "df = pd.DataFrame.from_records(rows)"
   ]
  },
  {
   "cell_type": "code",
   "execution_count": 28,
   "metadata": {},
   "outputs": [
    {
     "data": {
      "text/plain": [
       "304"
      ]
     },
     "execution_count": 28,
     "metadata": {},
     "output_type": "execute_result"
    }
   ],
   "source": [
    "sum(~df.time_per_pred.isna())"
   ]
  },
  {
   "cell_type": "code",
   "execution_count": 11,
   "metadata": {},
   "outputs": [],
   "source": [
    "df['gen_n_list'] = df.gen_n\n",
    "df['gen_n_max'] = df.gen_n_list.apply(lambda x: int(x[1]) if isinstance(x,list) else x)\n",
    "df.gen_n = df.gen_n.apply(lambda x: int(x[0]) if isinstance(x,list) else x)\n"
   ]
  },
  {
   "cell_type": "code",
   "execution_count": 12,
   "metadata": {},
   "outputs": [],
   "source": [
    "df.keys()\n",
    "# 'problem_type', 'seed',  'prefix', 'RB_n', 'RB_k', 'log_dir',\n",
    "relevant_keys = [ 'model_type', 'num_layers',\n",
    "       'repeat_lift_layers', 'num_layers_project', 'rank', 'vc_penalty', 'gen_n',\n",
    "       'dataset', 'infinite',  'positional_encoding', 'pe_dimension',\n",
    "       'max_valid_score', 'max_valid_epoch',\n",
    "       'scores']"
   ]
  },
  {
   "cell_type": "markdown",
   "metadata": {},
   "source": [
    "df"
   ]
  },
  {
   "cell_type": "markdown",
   "metadata": {},
   "source": [
    "import matplotlib.pyplot as plt\n",
    "import seaborn as sns\n",
    "sns.histplot(df[df.infinite==False].max_valid_epoch)\n",
    "plt.title('the step (x1000) at which the lowest validation score is achieved (non-infinite)')\n",
    "plt.xlabel(\"step (x1000)\")\n",
    "plt.ylabel('count')\n",
    "plt.show()\n",
    "df[(df.max_valid_epoch > 90) & (df.infinite==False)][relevant_keys] #.to_csv('230925_checkup_late_bloomers.csv')"
   ]
  },
  {
   "cell_type": "markdown",
   "metadata": {},
   "source": [
    "sns.histplot(df[df.infinite!=False].max_valid_epoch, bins=range(20))\n",
    "plt.title('the step (x1000) at which the lowest validation score is achieved (infinite)')\n",
    "plt.xlabel(\"step (x1000)\")\n",
    "plt.ylabel('count')\n",
    "plt.show()\n",
    "df[(df.max_valid_epoch > 18) & (df.infinite!=False)][relevant_keys] #.to_csv('230925_checkup_late_bloomers.csv')"
   ]
  },
  {
   "cell_type": "markdown",
   "metadata": {},
   "source": [
    "df.loc[df[df.baseline == False].groupby(['dataset', 'gen_n'])['scores'].idxmax()][relevant_keys]"
   ]
  },
  {
   "cell_type": "code",
   "execution_count": 17,
   "metadata": {},
   "outputs": [],
   "source": [
    "df.gen_n = df.gen_n.fillna(100)\n",
    "df.gen_n_max = df.gen_n_max.fillna(100)"
   ]
  },
  {
   "cell_type": "markdown",
   "metadata": {},
   "source": [
    "from collections import Counter\n",
    "Counter(df.dataset)"
   ]
  },
  {
   "cell_type": "code",
   "execution_count": 19,
   "metadata": {},
   "outputs": [],
   "source": [
    "# test models\n",
    "\n",
    "models_for_test = []"
   ]
  },
  {
   "cell_type": "code",
   "execution_count": 20,
   "metadata": {},
   "outputs": [],
   "source": [
    "dataset_by_arc = pd.DataFrame()\n",
    "dss = ['BarabasiAlbert', 'ErdosRenyi', 'PowerlawCluster', 'WattsStrogatz']\n",
    "mts = ['SDP proj', 'gurobi_2.0', 'gurobi_4.0', 'gurobi_8.0', 'vertex count']\n",
    "\n",
    "\n",
    "\n",
    "for (mt, ds, gen_n), group in df[(df.infinite == False) | (df.dataset == 'ErdosRenyi')].groupby(['model_type', 'dataset', 'gen_n']):\n",
    "    if mt in mts:\n",
    "        continue\n",
    "    if all(group['scores'].isna()):\n",
    "        continue\n",
    "\n",
    "    if ds not in dss:\n",
    "        gen_n = \"\"\n",
    "\n",
    "    #print(mt, ds, gen_n)\n",
    "    if ds in dss:\n",
    "        dataset_by_arc.at[f'{ds}, {gen_n}', mt] = f'{group[\"scores\"].max():0.1f} ({df.loc[group[\"scores\"].idxmax()][\"time_per_pred\"]*1000:0.0f})'\n",
    "        dataset_by_arc.at[f'{ds}, {gen_n}', 'gen_n'] = gen_n\n",
    "        dataset_by_arc.at[f'{ds}, {gen_n}', 'dataset'] = ds\n",
    "    else: \n",
    "        dataset_by_arc.at[f'{ds}', mt] = f'{group[\"scores\"].max():0.1f} ({df.loc[group[\"scores\"].idxmax()][\"time_per_pred\"]*1000:0.0f})'\n",
    "        dataset_by_arc.at[f'{ds}', 'dataset'] = ds\n",
    "\n",
    "    try:\n",
    "        models_for_test.append((df.loc[group['scores'].idxmax()]['log_dir'], df.loc[group['scores'].idxmax()]['dataset'], df.loc[group['scores'].idxmax()]['gen_n'])) \n",
    "    except Exception as e:\n",
    "        print(f'{e}')\n",
    "\n",
    "\n",
    "\n",
    "#dataset_by_arc['dataset'] = dataset_by_arc.index\n",
    "reorder(dataset_by_arc[[k for k in dataset_by_arc.keys() if k not in ['SDP lift', 'edge count']]], by='dataset', columns = ['dataset', 'gen_n',  'GAT', \n",
    "                                                                                                                            'GCNN', 'GIN', 'GatedGCNN', 'LiftMP']).to_csv('Table1_maxcut.csv', index=False) #.style.highlight_max(color = 'green', axis = 1)"
   ]
  },
  {
   "cell_type": "code",
   "execution_count": 21,
   "metadata": {},
   "outputs": [],
   "source": [
    "dataset_by_arc = pd.DataFrame()\n",
    "mts = ['GAT', 'GCNN', 'GIN', 'GatedGCNN']\n",
    "dss = ['BarabasiAlbert', 'ErdosRenyi', 'PowerlawCluster', 'WattsStrogatz']\n",
    "\n",
    "for (mt, ds, gen_n, gen_nmax), group in df[~df.model_type.isin(mts)].groupby(['model_type', 'dataset', 'gen_n', 'gen_n_max']):\n",
    "\n",
    "\n",
    "    if all(group['scores'].isna()):\n",
    "        continue\n",
    "    if ds not in dss:\n",
    "        gen_n = \"\"\n",
    "        gen_nmax = \"\"\n",
    "    #print(mt, ds, gen_n)\n",
    "    if ds in dss:\n",
    "        k = f'{ds}_{gen_n}'\n",
    "    else:\n",
    "        k = ds\n",
    "    dataset_by_arc.at[k, 'Type'] = ds\n",
    "    dataset_by_arc.at[k, 'Nmin'] = gen_n\n",
    "    dataset_by_arc.at[k, 'Nmax'] = gen_nmax\n",
    "    if mt != 'LiftMP':\n",
    "        dataset_by_arc.at[k, mt] = group['scores'].max()\n",
    "    else:\n",
    "        dataset_by_arc.at[k, mt] = f'{group[\"scores\"].max():0.1f} ({df.loc[group[\"scores\"].idxmax()][\"time_per_pred\"]*1000:0.0f})'\n",
    "    try:\n",
    "        models_for_test.append((df.loc[group['scores'].idxmax()]['log_dir'], df.loc[group['scores'].idxmax()]['dataset'], df.loc[group['scores'].idxmax()]['gen_n'])) \n",
    "    except Exception as e:\n",
    "        print(f'{e}')\n",
    "\n",
    "#dataset_by_arc.rename(columns={'Nikos': 'CustomLiftProject'}, inplace=True)\n",
    "reorder(dataset_by_arc[[k for k in dataset_by_arc.keys() if k not in [ 'SDP lift', 'vertex count']]], by='Type', secondary='Nmin').round(1).to_csv('Table2_maxcut.csv') #.style.highlight_max(color = 'green', axis = 1)"
   ]
  },
  {
   "cell_type": "code",
   "execution_count": 22,
   "metadata": {},
   "outputs": [
    {
     "name": "stdout",
     "output_type": "stream",
     "text": [
      "('training_runs/230925_TUsmall_GAT_cut/paramhash:229fdd4defd5beb6d5299b78886340673e646af2288d38d62612ac1d54d79e35', 'COLLAB', 100.0)\n",
      "('training_runs/230925_TUsmall_GAT_cut/paramhash:13208a7aa1df13fe6517cb5e1ee7d27df9e4436f2cfbce9ddf35ffee6440d8a5', 'ENZYMES', 100.0)\n",
      "('training_runs/230925_generated_preset_cut/paramhash:98627c0c9f1729b615470a023c62c47b0d4265e0180843f09678d0dccf98f1e3', 'ErdosRenyi', 50.0)\n",
      "('training_runs/230925_generated_preset_cut/paramhash:29022497978cacef4919cb917e4407ea28c15be66dbeb1afebecce605652db9d', 'ErdosRenyi', 100.0)\n",
      "('training_runs/230925_generated_preset_cut/paramhash:45aa5663131bdb65f33407dc287ffd53552b8b7bc847585738935981839e6d70', 'ErdosRenyi', 400.0)\n",
      "('training_runs/230925_TUsmall_GAT_cut/paramhash:6bb1d7ca49813746e5f0b172f02d8f9745b818b7f29c3f0e50229f0eaaa7343d', 'IMDB-BINARY', 100.0)\n",
      "('training_runs/230925_TUsmall_GAT_cut/paramhash:a4ffb64d114dba179d14cfea0af4813f48fe0b9379f65ca45e2d13450ab46f2e', 'MUTAG', 100.0)\n",
      "('training_runs/230925_TUsmall_GAT_cut/paramhash:2cfe939352c6e65a8dcec2c03e6f3a762d1229aa5bb7b9ddc512a675570e1014', 'PROTEINS', 100.0)\n",
      "('training_runs/230925_TUsmall_GCNN_cut/paramhash:ff36b7138f386ccdbdf3fb55beb77a7b83f81e5f0270afc3e1943c8021c6cd02', 'COLLAB', 100.0)\n",
      "('training_runs/230925_TUsmall_GCNN_cut/paramhash:d619a8fcb560a6e0453df77265631a87f9b91bba702e2c22b1888124ef91e0d5', 'ENZYMES', 100.0)\n",
      "('training_runs/230925_generated_preset_cut/paramhash:8c7ce21e87bc164f181083462156dc7a18379cb2f8974ead4266012cbaf1b16c', 'ErdosRenyi', 50.0)\n",
      "('training_runs/230925_generated_preset_cut/paramhash:257ef1e899329bce41b14a3cb17ca3670ea876d2145f8bd1eff06ee57a97f074', 'ErdosRenyi', 100.0)\n",
      "('training_runs/230925_generated_preset_cut/paramhash:af7372359b52d8e4b9bb76007f38433081d1194f73c8c90c5cd83f4c911773c6', 'ErdosRenyi', 400.0)\n",
      "('training_runs/230925_TUsmall_GCNN_cut/paramhash:84601593161b9d630c5b2e9d02db4f095176c7396abe6c685794208d35b24536', 'IMDB-BINARY', 100.0)\n",
      "('training_runs/230925_TUsmall_GCNN_cut/paramhash:ab51fe0b4b4821db532e2abd273adaa589b233c5558c36db3f9a57b33a3da0db', 'MUTAG', 100.0)\n",
      "('training_runs/230925_TUsmall_GCNN_cut/paramhash:5a91d636915cb9c94758060d2d4f182b765212af904aebc368dc62268d2594be', 'PROTEINS', 100.0)\n",
      "('training_runs/230925_TUsmall_GIN_cut/paramhash:3154b65b8313bf7ef69500a613951bc468fede9bb996c95c5b217b290ecefe9f', 'COLLAB', 100.0)\n",
      "('training_runs/230925_TUsmall_GIN_cut/paramhash:4b3351b5dd007891f4180307fc900b4a28bb5497704704cdd5e652ecb2ed4b0a', 'ENZYMES', 100.0)\n",
      "('training_runs/230925_generated_preset_cut/paramhash:ff9ce16b6670a8367faffe1e1a85279c55a3090e1d29a496ce1186d3f917949f', 'ErdosRenyi', 50.0)\n",
      "('training_runs/230925_generated_preset_cut/paramhash:1dccfc4f05c0143960fb861f781852983c520a8bf0b8c765f29e31ffa98ab7d9', 'ErdosRenyi', 100.0)\n",
      "('training_runs/230925_generated_preset_cut/paramhash:3e6f5ddc4dd74335930dc106bc2a38dcf5c197f16341d1390b8468d84f4c3817', 'ErdosRenyi', 400.0)\n",
      "('training_runs/230925_TUsmall_GIN_cut/paramhash:de6071dc0f65de47fecdf2e8d5b3fd5a290eee1c7c0dfed71e6617c7541955e1', 'IMDB-BINARY', 100.0)\n",
      "('training_runs/230925_TUsmall_GIN_cut/paramhash:5f0022d31f587cb15e76c934b700b1bb7dceb51cb9402eaf8777633349a00d6b', 'MUTAG', 100.0)\n",
      "('training_runs/230925_TUsmall_GIN_cut/paramhash:98962245665d7a0ddd468cfe4b8a4971445e4f45c09f803d1f10aa198244979f', 'PROTEINS', 100.0)\n",
      "('training_runs/230925_TUsmall_GatedGCNN_cut/paramhash:b4dd349af447240dd0b9880f2f2ab564d307e6bb8989b819434deca867bc7e2e', 'COLLAB', 100.0)\n",
      "('training_runs/230925_TUsmall_GatedGCNN_cut/paramhash:49e9f2a36d6f3f5624bd6db073f18fe084dac2b0bd929a518266cff4fc21cd7a', 'ENZYMES', 100.0)\n",
      "('training_runs/230925_generated_preset_cut/paramhash:b2804339829d070609833dd54327b986df686b111cf8c2d1986b11b490eb2c7a', 'ErdosRenyi', 50.0)\n",
      "('training_runs/230925_generated_preset_cut/paramhash:7d709ead5fb7cca8c6e57de9ba2f1b6ce4648533ea4b4b8369857c7127e33fc0', 'ErdosRenyi', 100.0)\n",
      "('training_runs/230925_generated_preset_cut/paramhash:70059db08936db3689d1997c5374654a5a2517416bf3752937388c28e8c11aa4', 'ErdosRenyi', 400.0)\n",
      "('training_runs/230925_TUsmall_GatedGCNN_cut/paramhash:d408bdf6d5977b1089ef05f3f86a3292dff2724d0edb1e04ec428f06c9f5071c', 'IMDB-BINARY', 100.0)\n",
      "('training_runs/230925_TUsmall_GatedGCNN_cut/paramhash:d3339c4c53418ebc81ed8dfd37d45a2f7c29b3267e5404ebd1b8f75de7306409', 'MUTAG', 100.0)\n",
      "('training_runs/230925_TUsmall_GatedGCNN_cut/paramhash:3b42952bfdd524d04198a718ed6309bf9653791c88c94e672feb4aaf87b886d9', 'PROTEINS', 100.0)\n",
      "('training_runs/230925_TUsmall_liftMP_cut/paramhash:022cd558ccf76521630abbd15972287f4b5514de29e5e79a9ba2ae913a63bd9c', 'COLLAB', 100.0)\n",
      "('training_runs/230925_TUsmall_liftMP_cut/paramhash:9bd44572c480625fe6351189c538e8c07bccc100465283e83b7af322715458ee', 'ENZYMES', 100.0)\n",
      "('training_runs/230925_generated_liftMP_cut/paramhash:290c9279e6ef21d9738797273795da038ceff00981b6d4d3ca14ee93f650dcc7', 'ErdosRenyi', 50.0)\n",
      "('training_runs/230925_generated_liftMP_cut/paramhash:190801d23bd85b26052dbadd18438332c36e25cf61717d8bea21ea4afdcdedfd', 'ErdosRenyi', 100.0)\n",
      "('training_runs/230925_generated_liftMP_cut/paramhash:54caf49a908b63dd9aaa68ad64b710badbaa31b6720f7dae2c0229ad62726158', 'ErdosRenyi', 400.0)\n",
      "('training_runs/230925_TUsmall_liftMP_cut/paramhash:946a6f19150dc73cead39d125c0834d499bd22e2ff2a926fa610ae369b4c461e', 'IMDB-BINARY', 100.0)\n",
      "('training_runs/230925_TUsmall_liftMP_cut/paramhash:87ac0eea7f30b9ddc97870b078e1b528dab3cec28e32e7e61f0eb181049fd1da', 'MUTAG', 100.0)\n",
      "('training_runs/230925_TUsmall_liftMP_cut/paramhash:7a3718fc4e1c1eb219a5b94f95402a99d20c9a3064105cbeaaad3d60f6b21340', 'PROTEINS', 100.0)\n",
      "('training_runs/230925_TUlarge_liftMP_cut/paramhash:0e3b6dc3f96ccf8e5681c51f297791458dbca35ad8d58abc9d414e76aa97b093', 'REDDIT-BINARY', 100.0)\n",
      "('training_runs/230925_TUlarge_liftMP_cut/paramhash:3b218c6eb3ee4a09c3dcf60f8c1b15cf7373ca6ae12cb62c7922147e619afa49', 'REDDIT-MULTI-12K', 100.0)\n",
      "('training_runs/230925_TUlarge_liftMP_cut/paramhash:b02fa9ab06e2fc9a15f859fadbc7d37f277307066b17dac697d7eb293c6305e6', 'REDDIT-MULTI-5K', 100.0)\n",
      "(nan, 'ErdosRenyi', 50.0)\n",
      "(nan, 'ErdosRenyi', 100.0)\n",
      "(nan, 'ErdosRenyi', 400.0)\n",
      "(nan, 'ErdosRenyi', 50.0)\n",
      "(nan, 'ErdosRenyi', 100.0)\n",
      "(nan, 'ErdosRenyi', 400.0)\n",
      "(nan, 'ErdosRenyi', 50.0)\n",
      "(nan, 'ErdosRenyi', 100.0)\n",
      "(nan, 'ErdosRenyi', 400.0)\n",
      "(nan, 'ErdosRenyi', 50.0)\n",
      "(nan, 'ErdosRenyi', 100.0)\n",
      "(nan, 'ErdosRenyi', 400.0)\n",
      "('training_runs/230925_generated_liftMP_cut/paramhash:5ec32a71d1ff22fe501f860a672a8357b01df6f08a3406ab1ae315f0ed36b69a', 'BarabasiAlbert', 50.0)\n",
      "('training_runs/230925_generated_liftMP_cut/paramhash:a6a84bd64bc5a4c79e9b2fb8f700440ce1479a78066cc6e82b3679f81342ab2a', 'BarabasiAlbert', 100.0)\n",
      "('training_runs/230925_generated_liftMP_cut/paramhash:2c3d6ac5fe29b97b2a403bd59e5f8fae6fb7b3db2ff6d95b9efad9b1206608f1', 'BarabasiAlbert', 400.0)\n",
      "('training_runs/230925_TUsmall_liftMP_cut/paramhash:022cd558ccf76521630abbd15972287f4b5514de29e5e79a9ba2ae913a63bd9c', 'COLLAB', 100.0)\n",
      "('training_runs/230925_TUsmall_liftMP_cut/paramhash:9bd44572c480625fe6351189c538e8c07bccc100465283e83b7af322715458ee', 'ENZYMES', 100.0)\n",
      "('training_runs/230925_generated_liftMP_cut/paramhash:290c9279e6ef21d9738797273795da038ceff00981b6d4d3ca14ee93f650dcc7', 'ErdosRenyi', 50.0)\n",
      "('training_runs/230925_generated_liftMP_cut/paramhash:190801d23bd85b26052dbadd18438332c36e25cf61717d8bea21ea4afdcdedfd', 'ErdosRenyi', 100.0)\n",
      "('training_runs/230925_generated_liftMP_cut/paramhash:54caf49a908b63dd9aaa68ad64b710badbaa31b6720f7dae2c0229ad62726158', 'ErdosRenyi', 400.0)\n",
      "('training_runs/230925_TUsmall_liftMP_cut/paramhash:946a6f19150dc73cead39d125c0834d499bd22e2ff2a926fa610ae369b4c461e', 'IMDB-BINARY', 100.0)\n",
      "('training_runs/230925_TUsmall_liftMP_cut/paramhash:87ac0eea7f30b9ddc97870b078e1b528dab3cec28e32e7e61f0eb181049fd1da', 'MUTAG', 100.0)\n",
      "('training_runs/230925_TUsmall_liftMP_cut/paramhash:7a3718fc4e1c1eb219a5b94f95402a99d20c9a3064105cbeaaad3d60f6b21340', 'PROTEINS', 100.0)\n",
      "('training_runs/230925_generated_liftMP_cut/paramhash:019085c811a90b8934d47f915a8bb02611ba6d0a274a116ee153b592de57325e', 'PowerlawCluster', 50.0)\n",
      "('training_runs/230925_generated_liftMP_cut/paramhash:9e91138e491962c229d626c75ea72eda5e9ff822ebb25a33fd74d56609706598', 'PowerlawCluster', 100.0)\n",
      "('training_runs/230925_generated_liftMP_cut/paramhash:2c6aed1d230eaf18bee68b63034f4a73b85024da1d1839a5c945f8cfc0479e18', 'PowerlawCluster', 400.0)\n",
      "('training_runs/230925_TUlarge_liftMP_cut/paramhash:0e3b6dc3f96ccf8e5681c51f297791458dbca35ad8d58abc9d414e76aa97b093', 'REDDIT-BINARY', 100.0)\n",
      "('training_runs/230925_TUlarge_liftMP_cut/paramhash:3b218c6eb3ee4a09c3dcf60f8c1b15cf7373ca6ae12cb62c7922147e619afa49', 'REDDIT-MULTI-12K', 100.0)\n",
      "('training_runs/230925_TUlarge_liftMP_cut/paramhash:b02fa9ab06e2fc9a15f859fadbc7d37f277307066b17dac697d7eb293c6305e6', 'REDDIT-MULTI-5K', 100.0)\n",
      "('training_runs/230925_generated_liftMP_cut/paramhash:beeea3e242c1721118d7a828fd014b2baad924966ff9512171c0ecdf9b53f2c0', 'WattsStrogatz', 50.0)\n",
      "('training_runs/230925_generated_liftMP_cut/paramhash:42025202df7299c518ecf988d5cad810ce20d390a1f5bbc039228cbf867b45ef', 'WattsStrogatz', 100.0)\n",
      "('training_runs/230925_generated_liftMP_cut/paramhash:d2e152d9aea3292aeb0a2510711dfba1ae2c2dd223188d8bd70a61afbf7739b4', 'WattsStrogatz', 400.0)\n",
      "(nan, 'COLLAB', 100.0)\n",
      "(nan, 'ENZYMES', 100.0)\n",
      "(nan, 'IMDB-BINARY', 100.0)\n",
      "(nan, 'MUTAG', 100.0)\n",
      "(nan, 'PROTEINS', 100.0)\n",
      "(nan, 'RANDOM', 100.0)\n",
      "(nan, 'COLLAB', 100.0)\n",
      "(nan, 'ENZYMES', 100.0)\n",
      "(nan, 'IMDB-BINARY', 100.0)\n",
      "(nan, 'MUTAG', 100.0)\n",
      "(nan, 'PROTEINS', 100.0)\n",
      "(nan, 'RANDOM', 100.0)\n",
      "(nan, 'BarabasiAlbert', 50.0)\n",
      "(nan, 'BarabasiAlbert', 100.0)\n",
      "(nan, 'BarabasiAlbert', 400.0)\n",
      "(nan, 'COLLAB', 100.0)\n",
      "(nan, 'ENZYMES', 100.0)\n",
      "(nan, 'ErdosRenyi', 50.0)\n",
      "(nan, 'ErdosRenyi', 100.0)\n",
      "(nan, 'ErdosRenyi', 400.0)\n",
      "(nan, 'IMDB-BINARY', 100.0)\n",
      "(nan, 'MUTAG', 100.0)\n",
      "(nan, 'PROTEINS', 100.0)\n",
      "(nan, 'PowerlawCluster', 50.0)\n",
      "(nan, 'PowerlawCluster', 100.0)\n",
      "(nan, 'PowerlawCluster', 400.0)\n",
      "(nan, 'REDDIT-BINARY', 100.0)\n",
      "(nan, 'REDDIT-MULTI-12K', 100.0)\n",
      "(nan, 'REDDIT-MULTI-5K', 100.0)\n",
      "(nan, 'WattsStrogatz', 50.0)\n",
      "(nan, 'WattsStrogatz', 100.0)\n",
      "(nan, 'WattsStrogatz', 400.0)\n",
      "(nan, 'BarabasiAlbert', 50.0)\n",
      "(nan, 'BarabasiAlbert', 100.0)\n",
      "(nan, 'BarabasiAlbert', 400.0)\n",
      "(nan, 'COLLAB', 100.0)\n",
      "(nan, 'ENZYMES', 100.0)\n",
      "(nan, 'ErdosRenyi', 50.0)\n",
      "(nan, 'ErdosRenyi', 100.0)\n",
      "(nan, 'ErdosRenyi', 400.0)\n",
      "(nan, 'IMDB-BINARY', 100.0)\n",
      "(nan, 'MUTAG', 100.0)\n",
      "(nan, 'PROTEINS', 100.0)\n",
      "(nan, 'PowerlawCluster', 50.0)\n",
      "(nan, 'PowerlawCluster', 100.0)\n",
      "(nan, 'PowerlawCluster', 400.0)\n",
      "(nan, 'REDDIT-BINARY', 100.0)\n",
      "(nan, 'REDDIT-MULTI-12K', 100.0)\n",
      "(nan, 'REDDIT-MULTI-5K', 100.0)\n",
      "(nan, 'WattsStrogatz', 50.0)\n",
      "(nan, 'WattsStrogatz', 100.0)\n",
      "(nan, 'WattsStrogatz', 400.0)\n",
      "(nan, 'BarabasiAlbert', 50.0)\n",
      "(nan, 'BarabasiAlbert', 100.0)\n",
      "(nan, 'BarabasiAlbert', 400.0)\n",
      "(nan, 'COLLAB', 100.0)\n",
      "(nan, 'ENZYMES', 100.0)\n",
      "(nan, 'ErdosRenyi', 50.0)\n",
      "(nan, 'ErdosRenyi', 100.0)\n",
      "(nan, 'ErdosRenyi', 400.0)\n",
      "(nan, 'IMDB-BINARY', 100.0)\n",
      "(nan, 'MUTAG', 100.0)\n",
      "(nan, 'PROTEINS', 100.0)\n",
      "(nan, 'PowerlawCluster', 50.0)\n",
      "(nan, 'PowerlawCluster', 100.0)\n",
      "(nan, 'PowerlawCluster', 400.0)\n",
      "(nan, 'REDDIT-BINARY', 100.0)\n",
      "(nan, 'REDDIT-MULTI-12K', 100.0)\n",
      "(nan, 'REDDIT-MULTI-5K', 100.0)\n",
      "(nan, 'WattsStrogatz', 50.0)\n",
      "(nan, 'WattsStrogatz', 100.0)\n",
      "(nan, 'WattsStrogatz', 400.0)\n",
      "(nan, 'BarabasiAlbert', 50.0)\n",
      "(nan, 'BarabasiAlbert', 100.0)\n",
      "(nan, 'BarabasiAlbert', 400.0)\n",
      "(nan, 'COLLAB', 100.0)\n",
      "(nan, 'ENZYMES', 100.0)\n",
      "(nan, 'ErdosRenyi', 50.0)\n",
      "(nan, 'ErdosRenyi', 100.0)\n",
      "(nan, 'ErdosRenyi', 400.0)\n",
      "(nan, 'IMDB-BINARY', 100.0)\n",
      "(nan, 'MUTAG', 100.0)\n",
      "(nan, 'PROTEINS', 100.0)\n",
      "(nan, 'PowerlawCluster', 50.0)\n",
      "(nan, 'PowerlawCluster', 100.0)\n",
      "(nan, 'PowerlawCluster', 400.0)\n",
      "(nan, 'REDDIT-BINARY', 100.0)\n",
      "(nan, 'REDDIT-MULTI-12K', 100.0)\n",
      "(nan, 'REDDIT-MULTI-5K', 100.0)\n",
      "(nan, 'WattsStrogatz', 50.0)\n",
      "(nan, 'WattsStrogatz', 100.0)\n",
      "(nan, 'WattsStrogatz', 400.0)\n",
      "(nan, 'BarabasiAlbert', 50.0)\n",
      "(nan, 'BarabasiAlbert', 100.0)\n",
      "(nan, 'BarabasiAlbert', 400.0)\n",
      "(nan, 'COLLAB', 100.0)\n",
      "(nan, 'ENZYMES', 100.0)\n",
      "(nan, 'ErdosRenyi', 50.0)\n",
      "(nan, 'ErdosRenyi', 100.0)\n",
      "(nan, 'ErdosRenyi', 400.0)\n",
      "(nan, 'IMDB-BINARY', 100.0)\n",
      "(nan, 'MUTAG', 100.0)\n",
      "(nan, 'PROTEINS', 100.0)\n",
      "(nan, 'PowerlawCluster', 50.0)\n",
      "(nan, 'PowerlawCluster', 100.0)\n",
      "(nan, 'PowerlawCluster', 400.0)\n",
      "(nan, 'REDDIT-BINARY', 100.0)\n",
      "(nan, 'REDDIT-MULTI-12K', 100.0)\n",
      "(nan, 'REDDIT-MULTI-5K', 100.0)\n",
      "(nan, 'WattsStrogatz', 50.0)\n",
      "(nan, 'WattsStrogatz', 100.0)\n",
      "(nan, 'WattsStrogatz', 400.0)\n",
      "(nan, 'BarabasiAlbert', 50.0)\n",
      "(nan, 'BarabasiAlbert', 100.0)\n",
      "(nan, 'BarabasiAlbert', 400.0)\n",
      "(nan, 'COLLAB', 100.0)\n",
      "(nan, 'ENZYMES', 100.0)\n",
      "(nan, 'ErdosRenyi', 50.0)\n",
      "(nan, 'ErdosRenyi', 100.0)\n",
      "(nan, 'ErdosRenyi', 400.0)\n",
      "(nan, 'IMDB-BINARY', 100.0)\n",
      "(nan, 'MUTAG', 100.0)\n",
      "(nan, 'PROTEINS', 100.0)\n",
      "(nan, 'PowerlawCluster', 50.0)\n",
      "(nan, 'PowerlawCluster', 100.0)\n",
      "(nan, 'PowerlawCluster', 400.0)\n",
      "(nan, 'REDDIT-BINARY', 100.0)\n",
      "(nan, 'REDDIT-MULTI-12K', 100.0)\n",
      "(nan, 'REDDIT-MULTI-5K', 100.0)\n",
      "(nan, 'WattsStrogatz', 50.0)\n",
      "(nan, 'WattsStrogatz', 100.0)\n",
      "(nan, 'WattsStrogatz', 400.0)\n",
      "(nan, 'BarabasiAlbert', 50.0)\n",
      "(nan, 'BarabasiAlbert', 100.0)\n",
      "(nan, 'BarabasiAlbert', 400.0)\n",
      "(nan, 'COLLAB', 100.0)\n",
      "(nan, 'ENZYMES', 100.0)\n",
      "(nan, 'ErdosRenyi', 50.0)\n",
      "(nan, 'ErdosRenyi', 100.0)\n",
      "(nan, 'ErdosRenyi', 400.0)\n",
      "(nan, 'IMDB-BINARY', 100.0)\n",
      "(nan, 'MUTAG', 100.0)\n",
      "(nan, 'PROTEINS', 100.0)\n",
      "(nan, 'PowerlawCluster', 50.0)\n",
      "(nan, 'PowerlawCluster', 100.0)\n",
      "(nan, 'PowerlawCluster', 400.0)\n",
      "(nan, 'REDDIT-BINARY', 100.0)\n",
      "(nan, 'REDDIT-MULTI-12K', 100.0)\n",
      "(nan, 'REDDIT-MULTI-5K', 100.0)\n",
      "(nan, 'WattsStrogatz', 50.0)\n",
      "(nan, 'WattsStrogatz', 100.0)\n",
      "(nan, 'WattsStrogatz', 400.0)\n"
     ]
    }
   ],
   "source": [
    "for x in models_for_test:\n",
    "    print(x)"
   ]
  },
  {
   "cell_type": "code",
   "execution_count": null,
   "metadata": {},
   "outputs": [],
   "source": []
  }
 ],
 "metadata": {
  "kernelspec": {
   "display_name": "maxcut-80",
   "language": "python",
   "name": "python3"
  },
  "language_info": {
   "codemirror_mode": {
    "name": "ipython",
    "version": 3
   },
   "file_extension": ".py",
   "mimetype": "text/x-python",
   "name": "python",
   "nbconvert_exporter": "python",
   "pygments_lexer": "ipython3",
   "version": "3.11.3"
  },
  "orig_nbformat": 4
 },
 "nbformat": 4,
 "nbformat_minor": 2
}
